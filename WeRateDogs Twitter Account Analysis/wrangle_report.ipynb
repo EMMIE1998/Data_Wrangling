{
 "cells": [
  {
   "cell_type": "markdown",
   "metadata": {},
   "source": [
    "## Reporting: wragle_report\n",
    "* Create a **300-600 word written report** called \"wrangle_report.pdf\" or \"wrangle_report.html\" that briefly describes your wrangling efforts. This is to be framed as an internal document."
   ]
  },
  {
   "cell_type": "markdown",
   "metadata": {},
   "source": [
    "## ***'We Rate Dogs'*** Wrangling Report.\n",
    "\n",
    "### Table of Contents\n",
    "<ul>\n",
    "    <li><a hfef=\"#gathering\">Gathering</a></li>\n",
    "    <li><a hfef=\"#assessing\">Assessing</a></li>\n",
    "    <li><a hfef=\"#cleaning\">Cleaning</a></li>\n",
    "    <li><a hfef=\"#visualize\">Visualization</a></li>\n",
    "<ul>\n",
    "\n",
    "<br>\n",
    "This database contained tweets from the ***'WeRateDogs'*** Twitter Account,  I was able to wrangle the data to a desired place before anayzing it.\n",
    "\n",
    "The first step for data wrangling was;\n",
    "### 1. Gathering <br>\n",
    "Gathering the three files in different ways due to their nature<br>\n",
    "\n",
    "a) twitter-archive-enhanced.csv using **pandas**.<br>\n",
    "\n",
    "b) image- predictions.tsv using **requests**<br>\n",
    "\n",
    "c) tweet-json.txt using **tweepy**\n",
    "\n",
    "### 2. Assessing <br>\n",
    "This involving looking at the data by perrusing through the datset or by use of code. i.e visual assesment or programming assesment.\n",
    "This step of wragggling is very important since it enables to diagonize the areas in the database that are dity and untidy.<br>\n",
    "\n",
    "I mostly used programming assessment with codes such as;\n",
    "\n",
    "i) info()<br>\n",
    "ii) describe()<br>\n",
    "iii) nunique()<br>\n",
    "iv) duplicated()<br>\n",
    "v) dtypes()<br>\n",
    "\n",
    "### 3. Cleaning\n",
    "After assessing we now know where it hurts and we go ahead to clean the data.These are the areas that needed cleaning and how i cleaned them:\n",
    "#### Quality Issues\n",
    "1. Filter to remain with tweets no retweets, then we can drop in_reply_to_status_id, in_reply_to_user_id, retweeted_status_id, retweeted_status_user_id & retweeted_status_timestamp\n",
    "2. Correct the datatypes of the following:\n",
    "    * tweet_id to string datatype for the three dataframes\n",
    "    * timestamp to datatime datatype\n",
    "    * rating_numerator & rating_denominator from int datatype to float datatype\n",
    "3. Some values in the rating denominator are not equal to 10 with the highest at 170.\n",
    "4. The ***None*** in the dog stages;doggo,floofer,puppo and pupper, columns  be replaces with ***'_      '***\n",
    "5. Some dog names are invalid (those that start with a lower case such as *'a'* ), we will drop them.\n",
    "6. Rename the column headers in the df_image dataframe;'p1', 'p1_conf', 'p1_dog', 'p2', 'p2_conf', 'p2_dog', 'p3', 'p3_conf', 'p3_dog' to more descriptive.\n",
    "7. The tweets should come before August 2017.\n",
    "8. Dog breeds are not Capitalized we will modify the Dog breeds to be capitalized\n",
    "\n",
    "#### Tidiness Issues\n",
    "1. Represent the dog stages in a better way, by combining them into one column\n",
    "2. The dataframes twitter_archive_enhanced, image_predictions and twitter_api should be merged on tweet_id.\n",
    "\n",
    "\n",
    "### 4. Visualization\n",
    "<br>\n",
    "After this, the dataset was pretty clean to be analysed using visualizations. I created two visuals using:\n",
    "\n",
    "1. **Histogram** to show the distribution of numeric columns\n",
    "2. **Pie chart** to show the relationship between the top four dog stages"
   ]
  }
 ],
 "metadata": {
  "kernelspec": {
   "display_name": "Python 3",
   "language": "python",
   "name": "python3"
  },
  "language_info": {
   "codemirror_mode": {
    "name": "ipython",
    "version": 3
   },
   "file_extension": ".py",
   "mimetype": "text/x-python",
   "name": "python",
   "nbconvert_exporter": "python",
   "pygments_lexer": "ipython3",
   "version": "3.6.3"
  }
 },
 "nbformat": 4,
 "nbformat_minor": 2
}
